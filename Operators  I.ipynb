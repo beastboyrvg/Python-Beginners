{
 "cells": [
  {
   "cell_type": "markdown",
   "metadata": {},
   "source": [
    "# Operators I"
   ]
  },
  {
   "cell_type": "markdown",
   "metadata": {},
   "source": [
    "1. <b>Arithmetic</b> (+,-,*,/,//,%,**)\n",
    "2. <b>Relational</b> (<,>,==,<=,>=,!=)\n",
    "3. <b>Logical</b> (and,or,not)"
   ]
  },
  {
   "cell_type": "markdown",
   "metadata": {},
   "source": [
    "1. Arithmetic"
   ]
  },
  {
   "cell_type": "code",
   "execution_count": 4,
   "metadata": {},
   "outputs": [
    {
     "name": "stdout",
     "output_type": "stream",
     "text": [
      "Addition: 7\n",
      "Subtraction: 3\n",
      "Multication: 10\n",
      "Divide: 2.5\n",
      "Divide: 1\n",
      "Power: 25\n"
     ]
    }
   ],
   "source": [
    "a = 5\n",
    "b = 2\n",
    "\n",
    "# it add two variable 'a' and 'b'\n",
    "add =  a + b\n",
    "print('Addition:',add)\n",
    "\n",
    "# Subtraction two variable 'a' and 'b'\n",
    "sub = a - b\n",
    "print('Subtraction:',sub)\n",
    "\n",
    "# Muplication of 'a' and 'b'\n",
    "multiple = a * b\n",
    "print('Multication:',multiple)\n",
    "\n",
    "# Divde of 'a' and 'b' also the output is in float or you can say decimal\n",
    "div = a / b\n",
    "print('Divide:',div)\n",
    "\n",
    "# this is also se for divide but in this it give you quotient\n",
    "floor = a % b\n",
    "print('Divide:',floor)\n",
    "\n",
    "# this is the raise to the power i.e 'b' power of 'a' (5*5)\n",
    "power = a ** b\n",
    "print('Power:',power)"
   ]
  },
  {
   "cell_type": "markdown",
   "metadata": {},
   "source": [
    "2. Relational Operator"
   ]
  },
  {
   "cell_type": "code",
   "execution_count": 6,
   "metadata": {},
   "outputs": [
    {
     "name": "stdout",
     "output_type": "stream",
     "text": [
      "Greater: False\n",
      "Less: True\n",
      "Equal or Not: False\n",
      "Not Equal or Equal: True\n",
      "Greater or Equal: False\n",
      "Less or Equal: True\n"
     ]
    }
   ],
   "source": [
    "a = 2\n",
    "b = 3\n",
    "\n",
    "# a is greater than b or not\n",
    "great = a > b\n",
    "print(\"Greater:\",great)\n",
    "\n",
    "# a is less than b or not\n",
    "less = a < b\n",
    "print(\"Less:\",less)\n",
    "\n",
    "# a is equal to b or not\n",
    "equal = a == b\n",
    "print(\"Equal or Not:\",equal)\n",
    "\n",
    "\n",
    "not_equal = a != b\n",
    "print(\"Not Equal or Equal:\",not_equal)\n",
    "\n",
    "\n",
    "greater_equal = a >= b\n",
    "print(\"Greater or Equal:\",greater_equal)\n",
    "\n",
    "less_equal = a <= b\n",
    "print('Less or Equal:',less_equal)\n",
    "\n"
   ]
  },
  {
   "cell_type": "markdown",
   "metadata": {},
   "source": [
    "3. Logical Operator"
   ]
  },
  {
   "cell_type": "code",
   "execution_count": 8,
   "metadata": {},
   "outputs": [
    {
     "name": "stdout",
     "output_type": "stream",
     "text": [
      "x and y is: False\n",
      "x or y is: True\n",
      "not x is: False\n"
     ]
    }
   ],
   "source": [
    "x = True\n",
    "y = False\n",
    "\n",
    "print('x and y is:',x and y)\n",
    "\n",
    "print('x or y is:',x or y)\n",
    "\n",
    "print('not x is:',not x)"
   ]
  },
  {
   "cell_type": "raw",
   "metadata": {},
   "source": [
    "Truth table for and\n",
    "\n",
    " A\t       B\t     A and B\n",
    "True\t True\t      True\n",
    "True\t False\t      False\n",
    "False\t True\t      False\n",
    "False\t False\t      False"
   ]
  },
  {
   "cell_type": "raw",
   "metadata": {},
   "source": [
    "Truth table for or\n",
    "\n",
    " A\t      B\t       A or B\n",
    "True\tTrue\t    True\n",
    "True\tFalse\t    True\n",
    "False\tTrue\t    True\n",
    "False\tFalse\t    False"
   ]
  },
  {
   "cell_type": "raw",
   "metadata": {},
   "source": [
    "Truth tabel for not\n",
    "\n",
    " A\t     not A\n",
    "True\t  False\n",
    "False\t  True"
   ]
  }
 ],
 "metadata": {
  "kernelspec": {
   "display_name": "Python 3",
   "language": "python",
   "name": "python3"
  },
  "language_info": {
   "codemirror_mode": {
    "name": "ipython",
    "version": 3
   },
   "file_extension": ".py",
   "mimetype": "text/x-python",
   "name": "python",
   "nbconvert_exporter": "python",
   "pygments_lexer": "ipython3",
   "version": "3.7.6"
  }
 },
 "nbformat": 4,
 "nbformat_minor": 4
}
