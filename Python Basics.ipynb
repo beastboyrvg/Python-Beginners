{
 "cells": [
  {
   "cell_type": "markdown",
   "metadata": {},
   "source": [
    "# Pyhton Basics"
   ]
  },
  {
   "cell_type": "markdown",
   "metadata": {},
   "source": [
    "1. <b>Variable</b>\n",
    "2. <b>Identifiers</b>\n",
    "3. <b>Type Casting</b>"
   ]
  },
  {
   "cell_type": "markdown",
   "metadata": {},
   "source": [
    "1. Varialble"
   ]
  },
  {
   "cell_type": "code",
   "execution_count": 3,
   "metadata": {},
   "outputs": [
    {
     "name": "stdout",
     "output_type": "stream",
     "text": [
      "50\n",
      "Code Initiatives\n"
     ]
    }
   ],
   "source": [
    "#We store 50 in 'a'i.e, apples store in basket)\n",
    "a = 50\n",
    "print(a)\n",
    "#we store Code initiatives in variable name b'\n",
    "b = 'Code Initiatives'\n",
    "print(b)"
   ]
  },
  {
   "cell_type": "code",
   "execution_count": 6,
   "metadata": {},
   "outputs": [
    {
     "name": "stdout",
     "output_type": "stream",
     "text": [
      "Code Initiatives\n",
      "Code Initiatives\n"
     ]
    }
   ],
   "source": [
    "a=b=c = 'Code Initiatives'\n",
    "#if we want to 'b' then it print code initiatives\n",
    "print(b)\n",
    "#now we if we want to print 'c' the it also print same\n",
    "print(c)\n",
    "\n",
    "#it means we give code initiatives to these variable 'a','b','c' \n",
    "#these all are equal to each other"
   ]
  },
  {
   "cell_type": "code",
   "execution_count": 9,
   "metadata": {},
   "outputs": [
    {
     "name": "stdout",
     "output_type": "stream",
     "text": [
      "50\n",
      "50\n",
      "Code\n"
     ]
    }
   ],
   "source": [
    "#one more example here\n",
    "x=y=z = 50\n",
    "z = 'Code'\n",
    "print(x)\n",
    "print(y)\n",
    "print(z)"
   ]
  },
  {
   "cell_type": "markdown",
   "metadata": {},
   "source": [
    "2. Identifies"
   ]
  },
  {
   "cell_type": "code",
   "execution_count": 13,
   "metadata": {},
   "outputs": [
    {
     "name": "stdout",
     "output_type": "stream",
     "text": [
      "50\n",
      "Code Initiatives\n",
      "14\n"
     ]
    }
   ],
   "source": [
    "# we use first character as alphabet or underscore\n",
    "#example\n",
    "\n",
    "A = 50\n",
    "print(A)\n",
    "_a123 = 'Code Initiatives'\n",
    "print(_a123)\n",
    "_a123_ = 14\n",
    "print(_a123_)"
   ]
  },
  {
   "cell_type": "code",
   "execution_count": 15,
   "metadata": {},
   "outputs": [],
   "source": [
    "#We can't use special character like these (:,@,#,%,^,&,*) as a variable name \n",
    "vaild identifer = a123, _n, n_q\n",
    "invalid identifer = "
   ]
  },
  {
   "cell_type": "markdown",
   "metadata": {},
   "source": [
    "3. Type Casting"
   ]
  },
  {
   "cell_type": "code",
   "execution_count": 16,
   "metadata": {},
   "outputs": [
    {
     "name": "stdout",
     "output_type": "stream",
     "text": [
      "<class 'int'>\n",
      "<class 'str'>\n",
      "<class 'float'>\n"
     ]
    }
   ],
   "source": [
    "a = 50\n",
    "b = 'Code Initiatives'\n",
    "c = 50.14\n",
    "print(type(a))\n",
    "print(type(b))\n",
    "print(type(c))"
   ]
  },
  {
   "cell_type": "code",
   "execution_count": null,
   "metadata": {},
   "outputs": [],
   "source": []
  }
 ],
 "metadata": {
  "kernelspec": {
   "display_name": "Python 3",
   "language": "python",
   "name": "python3"
  },
  "language_info": {
   "codemirror_mode": {
    "name": "ipython",
    "version": 3
   },
   "file_extension": ".py",
   "mimetype": "text/x-python",
   "name": "python",
   "nbconvert_exporter": "python",
   "pygments_lexer": "ipython3",
   "version": "3.7.6"
  }
 },
 "nbformat": 4,
 "nbformat_minor": 4
}
